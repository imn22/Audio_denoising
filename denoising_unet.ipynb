{
 "cells": [
  {
   "cell_type": "markdown",
   "metadata": {},
   "source": [
    "<h2>Read and play the signals</h2>\n",
    "\n",
    "<h3 color='g'>Question<h3>\n",
    "--- why the sampling frequency not the same when I read a signal using scipy and librosa???"
   ]
  },
  {
   "cell_type": "code",
   "execution_count": 1,
   "metadata": {},
   "outputs": [
    {
     "name": "stderr",
     "output_type": "stream",
     "text": [
      "C:\\Users\\imane\\AppData\\Local\\Temp\\ipykernel_10984\\2281652912.py:6: DeprecationWarning: Importing display from IPython.core.display is deprecated since IPython 7.14, please import from IPython display\n",
      "  from IPython.core.display import display\n"
     ]
    }
   ],
   "source": [
    "import numpy as np\n",
    "import matplotlib.pylab as plt\n",
    "import scipy\n",
    "import librosa\n",
    "import librosa.display\n",
    "from IPython.core.display import display\n",
    "import IPython.display as ipd\n",
    "from data import create_spec\n",
    "import os\n",
    "import torch\n",
    "from torch import nn\n",
    "from args import config\n",
    "args= config()\n",
    "\n",
    "from torch import nn\n",
    "from train_unet import train\n",
    "from model import My_unet\n",
    "from torchvision import transforms\n",
    "from data import MyDataset\n",
    "from train_unet import get_pesq, get_stoi\n",
    "from torch.utils.data import DataLoader, random_split"
   ]
  },
  {
   "cell_type": "code",
   "execution_count": null,
   "metadata": {},
   "outputs": [],
   "source": [
    "sig_noisy_path= \"data/train_small/noisy/signal/Jules_Verne_-_L_ile_mysterieuse_Partie1_Chap01_0_.wav\"\n",
    "sig_path= \"data/train_small/original/signal/Jules_Verne_-_L_ile_mysterieuse_Partie1_Chap01_0_.wav\"\n",
    "\n",
    "fs_noisy, sig_noisy = scipy.io.wavfile.read(sig_noisy_path)\n",
    "fs, sig = scipy.io.wavfile.read(sig_path)\n",
    "\n",
    "print(\"noisy singnal:\")\n",
    "display(ipd.Audio(data= sig_noisy, rate= fs))\n",
    "print(\"original signal:\")\n",
    "display(ipd.Audio(data= sig, rate=fs))"
   ]
  },
  {
   "cell_type": "code",
   "execution_count": null,
   "metadata": {},
   "outputs": [],
   "source": [
    "sign= librosa.load(sig_path)\n",
    "\n",
    "signal, fs= sign"
   ]
  },
  {
   "cell_type": "code",
   "execution_count": null,
   "metadata": {},
   "outputs": [],
   "source": [
    "print('teh shape of the original signal is: {}'.format(sig.shape))\n",
    "print(\" the sampling frequency is: {}\".format(fs))\n"
   ]
  },
  {
   "cell_type": "code",
   "execution_count": null,
   "metadata": {},
   "outputs": [],
   "source": [
    "plt.figure(figsize=(20,10))\n",
    "plt.subplot(2,1,1)\n",
    "plt.plot(sig, label='orginal signal')\n",
    "plt.title('Original signal')\n",
    "\n",
    "plt.subplot(2,1,2)\n",
    "plt.plot(sig_noisy)\n",
    "plt.title(\"noisy singal\")\n",
    "plt.show()"
   ]
  },
  {
   "cell_type": "markdown",
   "metadata": {},
   "source": [
    "<h2>Get the spectrograms and visualze:"
   ]
  },
  {
   "cell_type": "code",
   "execution_count": null,
   "metadata": {},
   "outputs": [],
   "source": [
    "#get stft\n",
    "stft_noisy= librosa.stft(sig_noisy.astype(float))\n",
    "stft_origin= librosa.stft(sig.astype(float))\n",
    "# get the mel\n",
    "# mel_noisy= librosa.feature.melspectrogram(y=sig_noisy.astype(float), sr= fs_noisy)\n",
    "# mel_origin= librosa.feature.melspectrogram(y=sig.astype(float), sr= fs)\n",
    "\n",
    "\n",
    "# Displaying the results\n",
    "fig, ax = plt.subplots(1, 2, figsize=(15, 10))\n",
    "\n",
    "librosa.display.specshow(librosa.amplitude_to_db(abs(stft_noisy)),\n",
    "                         sr=fs_noisy, x_axis='time', y_axis='log', ax=ax[0], cmap='viridis')\n",
    "ax[0].set_title('STFT of Noisy Signal')\n",
    "ax[0].set_xlabel('Time')\n",
    "ax[0].set_ylabel('Frequency')\n",
    "\n",
    "librosa.display.specshow(librosa.amplitude_to_db(abs(stft_origin)),\n",
    "                         sr=fs, x_axis='time', y_axis='log', ax=ax[1], cmap='viridis')\n",
    "ax[1].set_title('STFT of Original Signal')\n",
    "ax[1].set_xlabel('Time')\n",
    "ax[1].set_ylabel('Frequency')\n",
    "\n",
    "# librosa.display.specshow(librosa.power_to_db(mel_noisy),\n",
    "#                          sr=fs_noisy, x_axis='time', y_axis='mel', ax=ax[1, 0], cmap='viridis')\n",
    "# ax[1, 0].set_title('Mel Spectrogram of Noisy Signal')\n",
    "# ax[1, 0].set_xlabel('Time')\n",
    "# ax[1, 0].set_ylabel('Mel')\n",
    "\n",
    "# librosa.display.specshow(librosa.power_to_db(mel_origin),\n",
    "#                          sr=fs_noisy, x_axis='time', y_axis='mel', ax=ax[1, 1], cmap='viridis')\n",
    "# ax[1, 1].set_title('Mel Spectrogram of Origin Signal')\n",
    "# ax[1, 1].set_xlabel('Time')\n",
    "# ax[1, 1].set_ylabel('Mel')"
   ]
  },
  {
   "cell_type": "markdown",
   "metadata": {},
   "source": [
    "We can clearly differentiate between some features of the original signal and noisy signal"
   ]
  },
  {
   "cell_type": "code",
   "execution_count": null,
   "metadata": {},
   "outputs": [],
   "source": [
    "# ## store the spectrogram images\n",
    "signals_path='data/test'\n",
    "n_fft= args.n_fft\n",
    "hop_length_fft= args.hop_length_fft\n",
    "create_spec(signals_path, n_fft,hop_length_fft, noisy=True)\n"
   ]
  },
  {
   "cell_type": "code",
   "execution_count": null,
   "metadata": {},
   "outputs": [],
   "source": [
    "\n",
    "files= os.listdir('data/test/noisy/signal/')\n",
    "print('nb files:', len(files))\n",
    "spec= os.listdir('data/test/noisy/phase/')\n",
    "print('nb spec:', len(spec))\n"
   ]
  },
  {
   "cell_type": "code",
   "execution_count": null,
   "metadata": {},
   "outputs": [],
   "source": [
    "#after creating spec and phase retreive the audio signal\n",
    "from data import retreive_sig\n",
    "from PIL import Image\n",
    "path_spec='data/train_small/original/spec/Jules_Verne_-_L_ile_mysterieuse_Partie1_Chap01_0_.wav.npy'\n",
    "path_phase= 'data/train_small/original/phase/Jules_Verne_-_L_ile_mysterieuse_Partie1_Chap01_0_.wav.npy'\n",
    "spec= np.load(path_spec)\n",
    "plt.imshow(spec)\n",
    "plt.title(\"spec of signal to be retreived\")\n",
    "phase= np.load(path_phase)\n",
    "# plt.imshow(spec)\n",
    "print(spec.shape)\n",
    "fs= 8000\n",
    "audio_retrieved= retreive_sig(spec, phase, args.n_fft, args.hop_length_fft)\n",
    "plt.figure(figsize=(10,4))\n",
    "plt.plot(audio_retrieved)\n",
    "plt.title('retreived signal')\n",
    "plt.show()\n",
    "\n",
    "display(ipd.Audio(data= audio_retrieved, rate= fs))\n",
    "print(audio_retrieved.shape)"
   ]
  },
  {
   "cell_type": "markdown",
   "metadata": {},
   "source": [
    "<h2>Train baseline model</h2>"
   ]
  },
  {
   "cell_type": "code",
   "execution_count": null,
   "metadata": {},
   "outputs": [],
   "source": [
    "import torch\n",
    "from model import My_unet\n",
    "x= torch.rand(1,1,256,256)\n",
    "\n",
    "print(x.shape)\n",
    "\n",
    "model= My_unet(1,5)\n",
    "\n",
    "out= model(x)\n",
    "# cov1 , down1= out\n",
    "print(out.shape)\n",
    "# print(cov1.shape)\n",
    "# print(down1.shape)"
   ]
  },
  {
   "cell_type": "code",
   "execution_count": null,
   "metadata": {},
   "outputs": [],
   "source": [
    "path_phase.split('.')[0]"
   ]
  },
  {
   "cell_type": "code",
   "execution_count": 2,
   "metadata": {},
   "outputs": [
    {
     "ename": "ValueError",
     "evalue": "too many values to unpack (expected 4)",
     "output_type": "error",
     "traceback": [
      "\u001b[1;31m---------------------------------------------------------------------------\u001b[0m",
      "\u001b[1;31mValueError\u001b[0m                                Traceback (most recent call last)",
      "Cell \u001b[1;32mIn[2], line 24\u001b[0m\n\u001b[0;32m     22\u001b[0m \u001b[38;5;66;03m# write train loop \u001b[39;00m\n\u001b[0;32m     23\u001b[0m \u001b[38;5;28;01mfor\u001b[39;00m i, data \u001b[38;5;129;01min\u001b[39;00m \u001b[38;5;28menumerate\u001b[39m(train_loader):\n\u001b[1;32m---> 24\u001b[0m     noisy_spec_val, original_spec_val,  noisy_phase_val, original_singal_val \u001b[38;5;241m=\u001b[39m data\n\u001b[0;32m     25\u001b[0m     \u001b[38;5;66;03m# print(type(ori))\u001b[39;00m\n\u001b[0;32m     26\u001b[0m     \u001b[38;5;28mprint\u001b[39m(noisy_spec_val\u001b[38;5;241m.\u001b[39mshape)\n",
      "\u001b[1;31mValueError\u001b[0m: too many values to unpack (expected 4)"
     ]
    }
   ],
   "source": [
    "# create dataset class and get data\n",
    "from torchvision import transforms\n",
    "from data import MyDataset\n",
    "from train_unet import get_pesq, get_stoi\n",
    "from torch.utils.data import DataLoader, random_split\n",
    "\n",
    "\n",
    "path= 'data/train_small/'\n",
    "\n",
    "transform= transforms.Compose([\n",
    "    transforms.Resize((256, 256)),\n",
    "    transforms.ToTensor()\n",
    "])\n",
    "\n",
    "dataset= MyDataset(path, transform=transform)\n",
    "train_set, val_set= random_split(dataset, [0.81, 0.19])\n",
    "# data loader\n",
    "train_loader= DataLoader(dataset, batch_size= 1, shuffle= True)\n",
    "val_loader= DataLoader(dataset, batch_size= 1, shuffle= True)\n",
    "\n",
    "\n",
    "# write train loop \n",
    "for i, data in enumerate(train_loader):\n",
    "    noisy_spec_val, original_spec_val,  noisy_phase_val, original_singal_val = data\n",
    "    # print(type(ori))\n",
    "    print(noisy_spec_val.shape)\n",
    "    print(original_singal_val[1].shape)\n",
    "    resize_spec= transforms.Resize((args.height, args.width))\n",
    "    r= resize_spec(noisy_spec_val)\n",
    "    # print(r)\n",
    "    a= get_stoi(original_singal_val, noisy_spec_val, noisy_phase_val)\n",
    "    print(a)\n",
    "    # suppoose I want to see the effect of the noise\n",
    "    break\n",
    "#visualize the output of the unet "
   ]
  },
  {
   "cell_type": "code",
   "execution_count": null,
   "metadata": {},
   "outputs": [],
   "source": [
    "#bluid train loop \n",
    "\n",
    "\n",
    "model= My_unet(in_channels=1, out_channels=1)\n",
    "\n",
    "nepochs= 5\n",
    "batch_size= 1\n",
    "train_losses, val_losses, val_pesq_scores, val_stoi_scores= train(model, data_path='data/train_small/', batch_size= batch_size, n_epochs= nepochs, transform=transform, save_path=None)\n",
    "\n",
    "# Plot training and validation losses\n",
    "plt.plot(train_losses, label='Train Loss')\n",
    "plt.plot(val_losses, label='Validation Loss')\n",
    "plt.xlabel('Epochs')\n",
    "plt.ylabel('Loss')\n",
    "plt.title('Training and Validation Loss')\n",
    "plt.legend()\n",
    "plt.show()\n",
    "plt.plot(val_pesq_scores, label='PESQ')\n",
    "plt.plot(val_stoi_scores, label='STOI')\n",
    "plt.xlabel('Epochs')\n",
    "plt.ylabel('Loss')\n",
    "plt.title('PESQ and STOI')\n",
    "plt.legend()\n",
    "plt.show()"
   ]
  },
  {
   "cell_type": "code",
   "execution_count": null,
   "metadata": {},
   "outputs": [],
   "source": [
    "# test the model:\n",
    "from torch import nn\n",
    "from test_unet import test\n",
    "from model import My_unet\n",
    "\n",
    "model= My_unet(in_channels=1, out_channels=1)\n",
    "\n",
    "nepochs= 5\n",
    "batch_size= 1\n",
    "average_test_loss, average_pesq_score, average_stoi_score= test(model, data_path='data/train_small/', checkpoint_path='', batch_size= batch_size, transform=transform, save_path=None)"
   ]
  },
  {
   "cell_type": "code",
   "execution_count": null,
   "metadata": {},
   "outputs": [],
   "source": [
    "import os\n",
    "\n",
    "# Define the directory containing the files\n",
    "directory = 'data/train_small/original/phase'\n",
    "\n",
    "# Iterate over all files in the directory\n",
    "for filename in os.listdir(directory):\n",
    "    if filename.endswith(\".wav.npy\"):\n",
    "        # Construct the old file path\n",
    "        old_file = os.path.join(directory, filename)\n",
    "\n",
    "        # Construct the new file name by removing '.wav'\n",
    "        new_filename = filename.replace('.wav', '')\n",
    "\n",
    "        # Construct the new file path\n",
    "        new_file = os.path.join(directory, new_filename)\n",
    "\n",
    "        # Rename the file\n",
    "        os.rename(old_file, new_file)\n",
    "        print(f\"Renamed '{old_file}' to '{new_file}'\")\n"
   ]
  },
  {
   "cell_type": "markdown",
   "metadata": {},
   "source": [
    "##############################################################################################################################################################################################################"
   ]
  },
  {
   "cell_type": "code",
   "execution_count": 2,
   "metadata": {},
   "outputs": [
    {
     "name": "stdout",
     "output_type": "stream",
     "text": [
      "torch.Size([10, 10, 128, 128])\n",
      "torch.Size([10, 4, 128, 128])\n"
     ]
    }
   ],
   "source": [
    "# try out differetn size filters:\n",
    "from model_2 import My_unet_2\n",
    "\n",
    "model=My_unet_2(10,4)\n",
    "data_path='data/train_small/'\n",
    "# dataset= MyDataset(data_path, transform=None)\n",
    "dataset= torch.randn((100, 10, 128, 128))\n",
    "train_loader= DataLoader(dataset, batch_size= 10, shuffle= True)\n",
    "\n",
    "\n",
    "for data in train_loader:\n",
    "    noisy_spec= data\n",
    "    print(noisy_spec.shape)\n",
    "    predicted = model(noisy_spec)\n",
    "    print(predicted.shape)\n",
    "    break\n",
    "        "
   ]
  },
  {
   "cell_type": "code",
   "execution_count": null,
   "metadata": {},
   "outputs": [],
   "source": []
  },
  {
   "cell_type": "code",
   "execution_count": 4,
   "metadata": {},
   "outputs": [
    {
     "name": "stdout",
     "output_type": "stream",
     "text": [
      "Loading the data...\n",
      "Device: cpu\n",
      "\n",
      " start training\n"
     ]
    },
    {
     "name": "stderr",
     "output_type": "stream",
     "text": [
      "  0%|          | 0/2 [00:00<?, ?it/s]c:\\Users\\imane\\MVA\\Apprentissage profond et traitement du signal, introduction et applications industrielles\\Projet\\.venv\\lib\\site-packages\\torchvision\\transforms\\functional.py:1603: UserWarning: The default value of the antialias parameter of all the resizing transforms (Resize(), RandomResizedCrop(), etc.) will change from None to True in v0.17, in order to be consistent across the PIL and Tensor backends. To suppress this warning, directly pass antialias=True (recommended, future default), antialias=None (current default, which means False for Tensors and True for PIL), or antialias=False (only works on Tensors - PIL will still use antialiasing). This also applies if you are using the inference transforms from the models weights: update the call to weights.transforms(antialias=True).\n",
      "  warnings.warn(\n",
      " 50%|█████     | 1/2 [00:21<00:21, 21.96s/it]"
     ]
    },
    {
     "name": "stdout",
     "output_type": "stream",
     "text": [
      "Epoch 1, Train Loss: 4217.5835, Validation Loss: 47838.7188, Average PESQ: 1.1584, Average STOI: 0.3021\n"
     ]
    },
    {
     "name": "stderr",
     "output_type": "stream",
     "text": [
      "100%|██████████| 2/2 [00:45<00:00, 22.65s/it]"
     ]
    },
    {
     "name": "stdout",
     "output_type": "stream",
     "text": [
      "Epoch 2, Train Loss: 52133.7891, Validation Loss: 3372.3953, Average PESQ: 1.1718, Average STOI: 0.4576\n"
     ]
    },
    {
     "name": "stderr",
     "output_type": "stream",
     "text": [
      "\n"
     ]
    },
    {
     "data": {
      "image/png": "[encoded data removed]",
      "text/plain": [
       "<Figure size 640x480 with 1 Axes>"
      ]
     },
     "metadata": {},
     "output_type": "display_data"
    },
    {
     "data": {
      "image/png": "[encoded data removed]",
      "text/plain": [
       "<Figure size 640x480 with 1 Axes>"
      ]
     },
     "metadata": {},
     "output_type": "display_data"
    }
   ],
   "source": [
    "#bluid train loop\n",
    "from torch import nn\n",
    "from train_unet import train\n",
    "from model_2 import My_unet_2\n",
    "model= My_unet_2(in_channels=1, out_channels=1)\n",
    "\n",
    "loss= nn.MSELoss()\n",
    "optimizer = torch.optim.AdamW(model.parameters(), lr=0.1)\n",
    "scheduler= torch.optim.lr_scheduler.ExponentialLR(optimizer, gamma=0.1)\n",
    "\n",
    "nepochs= 50\n",
    "batch_size= 1\n",
    "save_dir= '/content/checkpoints_2'\n",
    "# os.makedirs(save_dir, exist_ok= True)\n",
    "train_losses, val_losses, val_pesq_scores, val_stoi_scores= train(model, data_path='data/train_small/', batch_size= 32, n_epochs= 2, transform=transform, save_dir=save_dir)\n",
    "\n",
    "# Plot training and validation losses\n",
    "plt.plot(train_losses, label='Train Loss')\n",
    "plt.plot(val_losses, label='Validation Loss')\n",
    "plt.xlabel('Epochs')\n",
    "plt.ylabel('Loss')\n",
    "plt.title('Training and Validation Loss')\n",
    "plt.legend()\n",
    "plt.show()\n",
    "plt.plot(val_pesq_scores, label='PESQ')\n",
    "plt.plot(val_stoi_scores, label='STOI')\n",
    "plt.xlabel('Epochs')\n",
    "plt.ylabel('Loss')\n",
    "plt.title('PESQ and STOI')\n",
    "plt.legend()\n",
    "plt.show()"
   ]
  },
  {
   "cell_type": "code",
   "execution_count": null,
   "metadata": {},
   "outputs": [],
   "source": []
  }
 ],
 "metadata": {
  "kernelspec": {
   "display_name": ".venv",
   "language": "python",
   "name": "python3"
  },
  "language_info": {
   "codemirror_mode": {
    "name": "ipython",
    "version": 3
   },
   "file_extension": ".py",
   "mimetype": "text/x-python",
   "name": "python",
   "nbconvert_exporter": "python",
   "pygments_lexer": "ipython3",
   "version": "3.9.0"
  }
 },
 "nbformat": 4,
 "nbformat_minor": 2
}
