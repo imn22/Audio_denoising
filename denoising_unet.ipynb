{
 "cells": [
  {
   "cell_type": "markdown",
   "metadata": {},
   "source": [
    "<h2>Read and play the signals</h2>\n",
    "\n",
    "<h3 color='g'>Question<h3>\n",
    "--- why the sampling frequency not the same when I read a signal using scipy and librosa???"
   ]
  },
  {
   "cell_type": "code",
   "execution_count": 1,
   "metadata": {},
   "outputs": [
    {
     "name": "stderr",
     "output_type": "stream",
     "text": [
      "C:\\Users\\imane\\AppData\\Local\\Temp\\ipykernel_39372\\2281652912.py:6: DeprecationWarning: Importing display from IPython.core.display is deprecated since IPython 7.14, please import from IPython display\n",
      "  from IPython.core.display import display\n"
     ]
    }
   ],
   "source": [
    "import numpy as np\n",
    "import matplotlib.pylab as plt\n",
    "import scipy\n",
    "import librosa\n",
    "import librosa.display\n",
    "from IPython.core.display import display\n",
    "import IPython.display as ipd\n",
    "from data import create_spec\n",
    "import os\n",
    "import torch\n",
    "from torch import nn\n",
    "from args import config\n",
    "args= config()\n",
    "\n",
    "from torch import nn\n",
    "from train_unet import train\n",
    "from model import My_unet\n",
    "from torchvision import transforms\n",
    "from data import MyDataset\n",
    "from train_unet import get_pesq, get_stoi\n",
    "from torch.utils.data import DataLoader, random_split"
   ]
  },
  {
   "cell_type": "code",
   "execution_count": null,
   "metadata": {},
   "outputs": [],
   "source": [
    "sig_noisy_path= \"data/train_small/noisy/signal/Jules_Verne_-_L_ile_mysterieuse_Partie1_Chap01_0_.wav\"\n",
    "sig_path= \"data/train_small/original/signal/Jules_Verne_-_L_ile_mysterieuse_Partie1_Chap01_0_.wav\"\n",
    "\n",
    "fs_noisy, sig_noisy = scipy.io.wavfile.read(sig_noisy_path)\n",
    "fs, sig = scipy.io.wavfile.read(sig_path)\n",
    "\n",
    "print(\"noisy singnal:\")\n",
    "display(ipd.Audio(data= sig_noisy, rate= fs))\n",
    "print(\"original signal:\")\n",
    "display(ipd.Audio(data= sig, rate=fs))"
   ]
  },
  {
   "cell_type": "code",
   "execution_count": null,
   "metadata": {},
   "outputs": [],
   "source": [
    "sign= librosa.load(sig_path)\n",
    "\n",
    "signal, fs= sign"
   ]
  },
  {
   "cell_type": "code",
   "execution_count": null,
   "metadata": {},
   "outputs": [],
   "source": [
    "print('teh shape of the original signal is: {}'.format(sig.shape))\n",
    "print(\" the sampling frequency is: {}\".format(fs))\n"
   ]
  },
  {
   "cell_type": "code",
   "execution_count": null,
   "metadata": {},
   "outputs": [],
   "source": [
    "plt.figure(figsize=(20,10))\n",
    "plt.subplot(2,1,1)\n",
    "plt.plot(sig, label='orginal signal')\n",
    "plt.title('Original signal')\n",
    "\n",
    "plt.subplot(2,1,2)\n",
    "plt.plot(sig_noisy)\n",
    "plt.title(\"noisy singal\")\n",
    "plt.show()"
   ]
  },
  {
   "cell_type": "markdown",
   "metadata": {},
   "source": [
    "<h2>Get the spectrograms and visualze:"
   ]
  },
  {
   "cell_type": "code",
   "execution_count": null,
   "metadata": {},
   "outputs": [],
   "source": [
    "#get stft\n",
    "stft_noisy= librosa.stft(sig_noisy.astype(float))\n",
    "stft_origin= librosa.stft(sig.astype(float))\n",
    "# get the mel\n",
    "# mel_noisy= librosa.feature.melspectrogram(y=sig_noisy.astype(float), sr= fs_noisy)\n",
    "# mel_origin= librosa.feature.melspectrogram(y=sig.astype(float), sr= fs)\n",
    "\n",
    "\n",
    "# Displaying the results\n",
    "fig, ax = plt.subplots(1, 2, figsize=(15, 10))\n",
    "\n",
    "librosa.display.specshow(librosa.amplitude_to_db(abs(stft_noisy)),\n",
    "                         sr=fs_noisy, x_axis='time', y_axis='log', ax=ax[0], cmap='viridis')\n",
    "ax[0].set_title('STFT of Noisy Signal')\n",
    "ax[0].set_xlabel('Time')\n",
    "ax[0].set_ylabel('Frequency')\n",
    "\n",
    "librosa.display.specshow(librosa.amplitude_to_db(abs(stft_origin)),\n",
    "                         sr=fs, x_axis='time', y_axis='log', ax=ax[1], cmap='viridis')\n",
    "ax[1].set_title('STFT of Original Signal')\n",
    "ax[1].set_xlabel('Time')\n",
    "ax[1].set_ylabel('Frequency')\n",
    "\n",
    "# librosa.display.specshow(librosa.power_to_db(mel_noisy),\n",
    "#                          sr=fs_noisy, x_axis='time', y_axis='mel', ax=ax[1, 0], cmap='viridis')\n",
    "# ax[1, 0].set_title('Mel Spectrogram of Noisy Signal')\n",
    "# ax[1, 0].set_xlabel('Time')\n",
    "# ax[1, 0].set_ylabel('Mel')\n",
    "\n",
    "# librosa.display.specshow(librosa.power_to_db(mel_origin),\n",
    "#                          sr=fs_noisy, x_axis='time', y_axis='mel', ax=ax[1, 1], cmap='viridis')\n",
    "# ax[1, 1].set_title('Mel Spectrogram of Origin Signal')\n",
    "# ax[1, 1].set_xlabel('Time')\n",
    "# ax[1, 1].set_ylabel('Mel')"
   ]
  },
  {
   "cell_type": "markdown",
   "metadata": {},
   "source": [
    "We can clearly differentiate between some features of the original signal and noisy signal"
   ]
  },
  {
   "cell_type": "code",
   "execution_count": null,
   "metadata": {},
   "outputs": [],
   "source": [
    "# ## store the spectrogram images\n",
    "signals_path='data/test'\n",
    "n_fft= args.n_fft\n",
    "hop_length_fft= args.hop_length_fft\n",
    "create_spec(signals_path, n_fft,hop_length_fft, noisy=True)\n"
   ]
  },
  {
   "cell_type": "code",
   "execution_count": null,
   "metadata": {},
   "outputs": [],
   "source": [
    "\n",
    "files= os.listdir('data/test/noisy/signal/')\n",
    "print('nb files:', len(files))\n",
    "spec= os.listdir('data/test/noisy/phase/')\n",
    "print('nb spec:', len(spec))\n"
   ]
  },
  {
   "cell_type": "code",
   "execution_count": null,
   "metadata": {},
   "outputs": [],
   "source": [
    "#after creating spec and phase retreive the audio signal\n",
    "from data import retreive_sig\n",
    "from PIL import Image\n",
    "path_spec='data/train_small/original/spec/Jules_Verne_-_L_ile_mysterieuse_Partie1_Chap01_0_.wav.npy'\n",
    "path_phase= 'data/train_small/original/phase/Jules_Verne_-_L_ile_mysterieuse_Partie1_Chap01_0_.wav.npy'\n",
    "spec= np.load(path_spec)\n",
    "plt.imshow(spec)\n",
    "plt.title(\"spec of signal to be retreived\")\n",
    "phase= np.load(path_phase)\n",
    "# plt.imshow(spec)\n",
    "print(spec.shape)\n",
    "fs= 8000\n",
    "audio_retrieved= retreive_sig(spec, phase, args.n_fft, args.hop_length_fft)\n",
    "plt.figure(figsize=(10,4))\n",
    "plt.plot(audio_retrieved)\n",
    "plt.title('retreived signal')\n",
    "plt.show()\n",
    "\n",
    "display(ipd.Audio(data= audio_retrieved, rate= fs))\n",
    "print(audio_retrieved.shape)"
   ]
  },
  {
   "cell_type": "markdown",
   "metadata": {},
   "source": [
    "<h2>Train baseline model</h2>"
   ]
  },
  {
   "cell_type": "code",
   "execution_count": null,
   "metadata": {},
   "outputs": [],
   "source": [
    "import torch\n",
    "from model import My_unet\n",
    "x= torch.rand(1,1,256,256)\n",
    "\n",
    "print(x.shape)\n",
    "\n",
    "model= My_unet(1,5)\n",
    "\n",
    "out= model(x)\n",
    "# cov1 , down1= out\n",
    "print(out.shape)\n",
    "# print(cov1.shape)\n",
    "# print(down1.shape)"
   ]
  },
  {
   "cell_type": "code",
   "execution_count": null,
   "metadata": {},
   "outputs": [],
   "source": [
    "path_phase.split('.')[0]"
   ]
  },
  {
   "cell_type": "code",
   "execution_count": 3,
   "metadata": {},
   "outputs": [],
   "source": [
    "# create dataset class and get data\n",
    "from torchvision import transforms\n",
    "from data import MyDataset\n",
    "from train_unet import get_pesq, get_stoi\n",
    "from torch.utils.data import DataLoader, random_split\n",
    "\n",
    "\n",
    "path= 'data/train_small/'\n",
    "\n",
    "transform= transforms.Compose([\n",
    "    transforms.Resize((256, 256)),\n",
    "    transforms.ToTensor()\n",
    "])\n",
    "\n",
    "dataset= MyDataset(path, transform=transform)\n",
    "train_set, val_set= random_split(dataset, [0.81, 0.19])\n",
    "# data loader\n",
    "train_loader= DataLoader(dataset, batch_size= 1, shuffle= True)\n",
    "val_loader= DataLoader(dataset, batch_size= 1, shuffle= True)\n",
    "\n",
    "\n",
    "# write train loop \n",
    "# for i, data in enumerate(train_loader):\n",
    "#     noisy_spec_val, original_spec_val,  noisy_phase_val, original_singal_val = data\n",
    "#     # print(type(ori))\n",
    "#     print(noisy_spec_val.shape)\n",
    "#     print(original_singal_val[1].shape)\n",
    "#     resize_spec= transforms.Resize((args.height, args.width))\n",
    "#     r= resize_spec(noisy_spec_val)\n",
    "#     # print(r)\n",
    "#     a= get_stoi(original_singal_val, noisy_spec_val, noisy_phase_val)\n",
    "#     print(a)\n",
    "#     # suppoose I want to see the effect of the noise\n",
    "#     break\n",
    "#visualize the output of the unet "
   ]
  },
  {
   "cell_type": "code",
   "execution_count": null,
   "metadata": {},
   "outputs": [],
   "source": [
    "#bluid train loop \n",
    "\n",
    "\n",
    "model= My_unet(in_channels=1, out_channels=1)\n",
    "\n",
    "nepochs= 5\n",
    "batch_size= 1\n",
    "train_losses, val_losses, val_pesq_scores, val_stoi_scores= train(model, data_path='data/train_small/', batch_size= batch_size, n_epochs= nepochs, transform=transform, save_path=None)\n",
    "\n",
    "# Plot training and validation losses\n",
    "plt.plot(train_losses, label='Train Loss')\n",
    "plt.plot(val_losses, label='Validation Loss')\n",
    "plt.xlabel('Epochs')\n",
    "plt.ylabel('Loss')\n",
    "plt.title('Training and Validation Loss')\n",
    "plt.legend()\n",
    "plt.show()\n",
    "plt.plot(val_pesq_scores, label='PESQ')\n",
    "plt.plot(val_stoi_scores, label='STOI')\n",
    "plt.xlabel('Epochs')\n",
    "plt.ylabel('Loss')\n",
    "plt.title('PESQ and STOI')\n",
    "plt.legend()\n",
    "plt.show()"
   ]
  },
  {
   "cell_type": "code",
   "execution_count": null,
   "metadata": {},
   "outputs": [],
   "source": [
    "# test the model:\n",
    "from torch import nn\n",
    "from test_unet import test\n",
    "from model import My_unet\n",
    "\n",
    "model= My_unet(in_channels=1, out_channels=1)\n",
    "\n",
    "nepochs= 5\n",
    "batch_size= 1\n",
    "average_test_loss, average_pesq_score, average_stoi_score= test(model, data_path='data/train_small/', checkpoint_path='', batch_size= batch_size, transform=transform, save_path=None)"
   ]
  },
  {
   "cell_type": "code",
   "execution_count": null,
   "metadata": {},
   "outputs": [],
   "source": [
    "import os\n",
    "\n",
    "# Define the directory containing the files\n",
    "directory = 'data/train_small/original/phase'\n",
    "\n",
    "# Iterate over all files in the directory\n",
    "for filename in os.listdir(directory):\n",
    "    if filename.endswith(\".wav.npy\"):\n",
    "        # Construct the old file path\n",
    "        old_file = os.path.join(directory, filename)\n",
    "\n",
    "        # Construct the new file name by removing '.wav'\n",
    "        new_filename = filename.replace('.wav', '')\n",
    "\n",
    "        # Construct the new file path\n",
    "        new_file = os.path.join(directory, new_filename)\n",
    "\n",
    "        # Rename the file\n",
    "        os.rename(old_file, new_file)\n",
    "        print(f\"Renamed '{old_file}' to '{new_file}'\")\n"
   ]
  },
  {
   "cell_type": "markdown",
   "metadata": {},
   "source": [
    "##############################################################################################################################################################################################################"
   ]
  },
  {
   "cell_type": "code",
   "execution_count": 2,
   "metadata": {},
   "outputs": [
    {
     "name": "stdout",
     "output_type": "stream",
     "text": [
      "torch.Size([10, 10, 128, 128])\n",
      "torch.Size([10, 4, 128, 128])\n"
     ]
    }
   ],
   "source": [
    "# try out differetn size filters:\n",
    "from model_2 import My_unet_2\n",
    "\n",
    "model=My_unet_2(10,4)\n",
    "data_path='data/train_small/'\n",
    "# dataset= MyDataset(data_path, transform=None)\n",
    "dataset= torch.randn((100, 10, 128, 128))\n",
    "train_loader= DataLoader(dataset, batch_size= 10, shuffle= True)\n",
    "\n",
    "\n",
    "for data in train_loader:\n",
    "    noisy_spec= data\n",
    "    print(noisy_spec.shape)\n",
    "    predicted = model(noisy_spec)\n",
    "    print(predicted.shape)\n",
    "    break\n",
    "        "
   ]
  },
  {
   "cell_type": "code",
   "execution_count": null,
   "metadata": {},
   "outputs": [],
   "source": []
  },
  {
   "cell_type": "code",
   "execution_count": 7,
   "metadata": {},
   "outputs": [
    {
     "name": "stdout",
     "output_type": "stream",
     "text": [
      "Loading the data...\n",
      "Device: cpu\n",
      "\n",
      " start training\n"
     ]
    },
    {
     "name": "stderr",
     "output_type": "stream",
     "text": [
      "  0%|          | 0/5 [00:00<?, ?it/s]"
     ]
    }
   ],
   "source": [
    "#bluid train loop\n",
    "from torch import nn\n",
    "from train_unet import train\n",
    "from model import My_unet\n",
    "model= My_unet(in_channels=1, out_channels=1)\n",
    "\n",
    "loss= nn.MSELoss()\n",
    "optimizer = torch.optim.AdamW(model.parameters(), lr=0.1)\n",
    "scheduler= torch.optim.lr_scheduler.ExponentialLR(optimizer, gamma=0.1)\n",
    "\n",
    "nepochs= 50\n",
    "batch_size= 1\n",
    "save_dir= '/content/checkpoints_2'\n",
    "# os.makedirs(save_dir, exist_ok= True)\n",
    "train_losses, val_losses, val_pesq_scores, val_stoi_scores= train(model, data_path='data/train/', batch_size= 32, n_epochs= 5, transform=transform, save_dir=save_dir)\n",
    "\n",
    "# Plot training and validation losses\n",
    "plt.plot(train_losses, label='Train Loss')\n",
    "plt.plot(val_losses, label='Validation Loss')\n",
    "plt.xlabel('Epochs')\n",
    "plt.ylabel('Loss')\n",
    "plt.title('Training and Validation Loss')\n",
    "plt.legend()\n",
    "plt.show()\n",
    "plt.plot(val_pesq_scores, label='PESQ')\n",
    "plt.plot(val_stoi_scores, label='STOI')\n",
    "plt.xlabel('Epochs')\n",
    "plt.ylabel('Loss')\n",
    "plt.title('PESQ and STOI')\n",
    "plt.legend()\n",
    "plt.show()"
   ]
  },
  {
   "cell_type": "code",
   "execution_count": 40,
   "metadata": {},
   "outputs": [
    {
     "name": "stdout",
     "output_type": "stream",
     "text": [
      "torch.Size([5, 1, 256, 256])\n",
      "torch.Size([5, 80000])\n",
      "torch.Size([5, 257, 313])\n",
      "before phase (5, 1, 257, 313) (5, 1, 257, 313)\n",
      "after including phase (5, 1, 257, 313)\n",
      "hiiii\n",
      "torch.Size([5, 80000])\n",
      "torch.Size([5, 1, 257, 313])\n",
      "before phase (5, 1, 257, 313) (5, 1, 257, 313)\n",
      "after including phase (5, 1, 257, 313)\n",
      "torch.Size([5, 80000])\n",
      "torch.Size([5, 80000])\n",
      "hhhh\n",
      "psss 2.1649937629699707\n"
     ]
    }
   ],
   "source": [
    "## debuuug\n",
    "import os\n",
    "import torch\n",
    "from torch import nn\n",
    "import torchvision\n",
    "from torch.utils.data import DataLoader, random_split\n",
    "from torchmetrics.audio import PerceptualEvaluationSpeechQuality\n",
    "from data import MyDataset, retreive_sig\n",
    "import matplotlib.pyplot as plt\n",
    "from tqdm import tqdm\n",
    "from args import config\n",
    "args= config()\n",
    "\n",
    "\n",
    "def get_pesq(original_singal, predicted, noisy_phase):\n",
    "    #retrive predicted signal\n",
    "    original_singal= original_singal[1].cpu()\n",
    "    print('hiiii')\n",
    "    print(original_singal.shape)\n",
    "    print(predicted.shape)\n",
    "    noisy_phase= noisy_phase.cpu().numpy()\n",
    "    predicted= predicted.cpu().numpy()\n",
    "    predicted_sig= retreive_sig(predicted, noisy_phase, args.n_fft, args.hop_length_fft)\n",
    "    predicted_sig= torch.tensor(predicted_sig)\n",
    "    # just apply pesq\n",
    "    \n",
    "    print(predicted_sig.shape)\n",
    "    print(original_singal.shape)\n",
    "    print('hhhh')\n",
    "    pesq = PerceptualEvaluationSpeechQuality(args.fs, 'nb')\n",
    "    \n",
    "    result= pesq(predicted_sig, original_singal)\n",
    "    return result.item()\n",
    "\n",
    "\n",
    "\n",
    "def retreive_sig(magnitude_db, phase,n_fft, hop_length_fft ):\n",
    "    #first go backt othe magnitude scale\n",
    "    magnitude= librosa.db_to_amplitude(magnitude_db, ref= 1.0)\n",
    "    #include the phase\n",
    "\n",
    "    print('before phase', magnitude.shape, torch.tensor(phase).unsqueeze(axis=1).numpy().shape )\n",
    "    signal_with_phase= magnitude *  np.expand_dims(phase, axis=1) \n",
    "    print('after including phase', signal_with_phase.shape)\n",
    "    #recsntrct\n",
    "    audio= librosa.core.istft(signal_with_phase, hop_length=hop_length_fft, n_fft=n_fft, center=True)\n",
    "    if len(audio.shape)==3:\n",
    "        if audio.shape[2]<args.sig_legnth:\n",
    "            diff= args.sig_legnth- audio.shape[2]\n",
    "            audio =np.pad(audio,((0,0), (0,0),(0, diff)), mode= 'constant')\n",
    "            audio= audio.reshape(-1, args.sig_legnth)\n",
    "    return audio\n",
    "\n",
    "\n",
    "\n",
    "dataset= MyDataset('data/train_small/', transform=transform)\n",
    "train_set, val_set= random_split(dataset, [0.81, 0.19])\n",
    "# data loader\n",
    "train_loader= DataLoader(train_set, batch_size= 5, shuffle= True)\n",
    "\n",
    "for data in  train_loader:\n",
    "            noisy_spec_val, original_spec_val,  noisy_phase_val, original_singal_val, _ = data\n",
    "            print(noisy_spec_val.shape)\n",
    "            # noisy_spec_val, original_spec_val = noisy_spec_val.to(device), original_spec_val.to(device)\n",
    "            resize_spec= torchvision.transforms.Resize((args.height, args.width))\n",
    "            original_spec_val= resize_spec(original_spec_val)\n",
    "            noisy_spec_val= resize_spec(noisy_spec_val)\n",
    "            print(original_singal_val[1].shape)\n",
    "            print(noisy_phase_val.shape)\n",
    "\n",
    "            predicted_sig= retreive_sig(noisy_spec_val.cpu().numpy(), noisy_phase_val.cpu().numpy(), args.n_fft, args.hop_length_fft)\n",
    "            # print('retreived',predicted_sig.shape)\n",
    "\n",
    "\n",
    "            pesq_score = get_pesq(original_singal_val, noisy_spec_val, noisy_phase_val)\n",
    "            print('psss', pesq_score)\n",
    "            break\n",
    "\n",
    "\n"
   ]
  },
  {
   "cell_type": "code",
   "execution_count": 13,
   "metadata": {},
   "outputs": [
    {
     "name": "stdout",
     "output_type": "stream",
     "text": [
      "10\n"
     ]
    }
   ],
   "source": [
    "import os\n",
    "print(len(os.listdir('data/train_small/noisy/signal/')))"
   ]
  }
 ],
 "metadata": {
  "kernelspec": {
   "display_name": ".venv",
   "language": "python",
   "name": "python3"
  },
  "language_info": {
   "codemirror_mode": {
    "name": "ipython",
    "version": 3
   },
   "file_extension": ".py",
   "mimetype": "text/x-python",
   "name": "python",
   "nbconvert_exporter": "python",
   "pygments_lexer": "ipython3",
   "version": "3.9.0"
  }
 },
 "nbformat": 4,
 "nbformat_minor": 2
}
